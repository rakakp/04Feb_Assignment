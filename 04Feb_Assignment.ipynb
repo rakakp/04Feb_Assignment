{
 "cells": [
  {
   "cell_type": "code",
   "execution_count": 1,
   "id": "6315f641-e041-4af4-99e2-df25a53ecada",
   "metadata": {},
   "outputs": [
    {
     "name": "stdout",
     "output_type": "stream",
     "text": [
      "[('gj', 25534), ('bb', 27654), ('aa', 34357)]\n"
     ]
    }
   ],
   "source": [
    "'''Q1'''\n",
    "a1 = [('aa',34357),('bb',27654),('gj',25534)]\n",
    "a1.sort(key = lambda x:x[1])\n",
    "print(a1)"
   ]
  },
  {
   "cell_type": "code",
   "execution_count": 2,
   "id": "25c96c9f-cc20-4549-aaff-20c7b8a4d140",
   "metadata": {},
   "outputs": [
    {
     "name": "stdout",
     "output_type": "stream",
     "text": [
      "[1, 4, 9, 16, 25, 36, 49, 64, 81, 100]\n"
     ]
    }
   ],
   "source": [
    "'''Q2'''\n",
    "l1 = [ 1,2,3,4,5,6,7,8,9,10]\n",
    "print(list(map(lambda x: x*x,l1)))"
   ]
  },
  {
   "cell_type": "code",
   "execution_count": 3,
   "id": "685ac2ad-b4da-4082-9ef9-b7a3b1f9bfa7",
   "metadata": {},
   "outputs": [
    {
     "name": "stdout",
     "output_type": "stream",
     "text": [
      "('1', '2', '3', '4', '5', '6', '7', '8', '9', '10')\n"
     ]
    }
   ],
   "source": [
    "'''Q3'''\n",
    "l1 = [ 1,2,3,4,5,6,7,8,9,10]\n",
    "print(tuple(map(lambda x: str(x),l1)))"
   ]
  },
  {
   "cell_type": "code",
   "execution_count": 4,
   "id": "d72f05d3-7e2a-4eb5-8f3e-f95badafa982",
   "metadata": {},
   "outputs": [
    {
     "ename": "NameError",
     "evalue": "name 'reduce' is not defined",
     "output_type": "error",
     "traceback": [
      "\u001b[0;31m---------------------------------------------------------------------------\u001b[0m",
      "\u001b[0;31mNameError\u001b[0m                                 Traceback (most recent call last)",
      "Cell \u001b[0;32mIn[4], line 3\u001b[0m\n\u001b[1;32m      1\u001b[0m \u001b[38;5;124;03m'''Q4'''\u001b[39;00m\n\u001b[1;32m      2\u001b[0m l1 \u001b[38;5;241m=\u001b[39m [ \u001b[38;5;241m1\u001b[39m,\u001b[38;5;241m2\u001b[39m,\u001b[38;5;241m3\u001b[39m,\u001b[38;5;241m4\u001b[39m,\u001b[38;5;241m5\u001b[39m,\u001b[38;5;241m6\u001b[39m,\u001b[38;5;241m7\u001b[39m,\u001b[38;5;241m8\u001b[39m,\u001b[38;5;241m9\u001b[39m,\u001b[38;5;241m10\u001b[39m,\u001b[38;5;241m11\u001b[39m,\u001b[38;5;241m12\u001b[39m,\u001b[38;5;241m13\u001b[39m,\u001b[38;5;241m14\u001b[39m,\u001b[38;5;241m15\u001b[39m,\u001b[38;5;241m16\u001b[39m,\u001b[38;5;241m17\u001b[39m,\u001b[38;5;241m18\u001b[39m,\u001b[38;5;241m19\u001b[39m,\u001b[38;5;241m20\u001b[39m,\u001b[38;5;241m21\u001b[39m,\u001b[38;5;241m22\u001b[39m,\u001b[38;5;241m23\u001b[39m,\u001b[38;5;241m24\u001b[39m,\u001b[38;5;241m25\u001b[39m]\n\u001b[0;32m----> 3\u001b[0m \u001b[38;5;28mprint\u001b[39m(\u001b[43mreduce\u001b[49m(\u001b[38;5;28;01mlambda\u001b[39;00m x,y: x\u001b[38;5;241m*\u001b[39my,l1))\n",
      "\u001b[0;31mNameError\u001b[0m: name 'reduce' is not defined"
     ]
    }
   ],
   "source": [
    "'''Q4'''\n",
    "l1 = [ 1,2,3,4,5,6,7,8,9,10,11,12,13,14,15,16,17,18,19,20,21,22,23,24,25]\n",
    "print(reduce(lambda x,y: x*y,l1))"
   ]
  },
  {
   "cell_type": "code",
   "execution_count": 5,
   "id": "1f3fa28a-a4fd-4dbe-bda0-dd818ba7fe05",
   "metadata": {},
   "outputs": [
    {
     "name": "stdout",
     "output_type": "stream",
     "text": [
      "15511210043330985984000000\n"
     ]
    }
   ],
   "source": [
    "from functools import reduce\n",
    "'''Q4'''\n",
    "l1 = [ 1,2,3,4,5,6,7,8,9,10,11,12,13,14,15,16,17,18,19,20,21,22,23,24,25]\n",
    "print(reduce(lambda x,y: x*y,l1))"
   ]
  },
  {
   "cell_type": "code",
   "execution_count": 6,
   "id": "2babc4f6-1dbb-4967-8f6f-39a3214b0426",
   "metadata": {},
   "outputs": [
    {
     "name": "stdout",
     "output_type": "stream",
     "text": [
      "[2, 3, 6, 9, 27, 60, 90, 120, 46]\n"
     ]
    }
   ],
   "source": [
    "'''Q5'''\n",
    "a = [2,3,6,9,27,60,90,120,55,46]\n",
    "print(list(filter(lambda x: x%2 == 0 or x%3 ==0,a)))"
   ]
  },
  {
   "cell_type": "code",
   "execution_count": 7,
   "id": "aa795ace-61b4-49a9-826b-fef4707fd5d0",
   "metadata": {},
   "outputs": [
    {
     "name": "stdout",
     "output_type": "stream",
     "text": [
      "['php', 'aba', 'radar', 'level']\n"
     ]
    }
   ],
   "source": [
    "'''Q6'''\n",
    "a1=[\"python\",'php','aba','radar','level']\n",
    "print(list(filter(lambda x: x == x[::-1],a1)))"
   ]
  },
  {
   "cell_type": "code",
   "execution_count": null,
   "id": "6e1a4197-61c0-47ee-8525-4e87f70c61e8",
   "metadata": {},
   "outputs": [],
   "source": []
  }
 ],
 "metadata": {
  "kernelspec": {
   "display_name": "Python 3 (ipykernel)",
   "language": "python",
   "name": "python3"
  },
  "language_info": {
   "codemirror_mode": {
    "name": "ipython",
    "version": 3
   },
   "file_extension": ".py",
   "mimetype": "text/x-python",
   "name": "python",
   "nbconvert_exporter": "python",
   "pygments_lexer": "ipython3",
   "version": "3.10.8"
  }
 },
 "nbformat": 4,
 "nbformat_minor": 5
}
